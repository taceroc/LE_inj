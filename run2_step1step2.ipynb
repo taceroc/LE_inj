{
 "cells": [
  {
   "cell_type": "code",
   "execution_count": 1,
   "id": "9bfddb8e-03e4-4915-b2ba-b6554957021e",
   "metadata": {},
   "outputs": [],
   "source": [
    "import pandas as pd\n",
    "import os\n",
    "\n",
    "import numpy as np\n",
    "import matplotlib.pyplot as plt\n",
    "from astropy.io import fits\n",
    "import astropy.units as u\n",
    "from astropy.table import Table, vstack\n",
    "import astropy\n",
    "from astropy.wcs import WCS\n",
    "from astropy.coordinates import SkyCoord\n",
    "from astropy.time import Time\n",
    "import getpass\n",
    "\n",
    "import lsst.afw.display as afwDisplay\n",
    "import lsst.afw.geom as afwGeom\n",
    "import lsst.afw.image as afwImage\n",
    "import lsst.afw.math as afwMath\n",
    "from lsst.daf.butler import Butler\n",
    "import lsst.geom as geom\n",
    "\n",
    "import lsst.daf.base as dafBase\n",
    "import lsst.afw.table as afwTable\n",
    "\n",
    "import lsst.sphgeom as sphgeom\n",
    "\n",
    "from lsst.ctrl.mpexec import pipeline2dot\n",
    "from lsst.ctrl.mpexec import SimplePipelineExecutor\n",
    "from lsst.pipe.base import Pipeline, Instrument"
   ]
  },
  {
   "cell_type": "code",
   "execution_count": 2,
   "id": "ca94ed69-7ede-4bdf-9377-a312a2078f6c",
   "metadata": {},
   "outputs": [],
   "source": [
    "repo = '/global/cfs/cdirs/lsst/production/gen3/DC2/Run2.2i/repo'\n",
    "collections = [\"LSSTCam-imSim/defaults\"]\n",
    "butler = Butler(repo, collections=collections)\n",
    "\n",
    "# refs = list(set(butler.registry.queryDatasets(\"raw\", visit=230)))\n",
    "# print(len(refs))"
   ]
  },
  {
   "cell_type": "code",
   "execution_count": 3,
   "id": "74f95727-452e-4437-be63-c0d27134f8d1",
   "metadata": {},
   "outputs": [],
   "source": [
    "# refs[0].dataId"
   ]
  },
  {
   "cell_type": "code",
   "execution_count": 4,
   "id": "9c310fdf-f9a3-4334-af41-f4f42dd8b4aa",
   "metadata": {},
   "outputs": [],
   "source": [
    "# raw_test = butler.get('raw', dataId=refs[0].dataId)"
   ]
  },
  {
   "cell_type": "code",
   "execution_count": 5,
   "id": "42676b5d-1e0a-4149-aafd-64547d0434d3",
   "metadata": {},
   "outputs": [],
   "source": [
    "# raw_test"
   ]
  },
  {
   "cell_type": "code",
   "execution_count": 6,
   "id": "4cdf6109-1df7-40dc-bf5d-bc27ffaa0489",
   "metadata": {},
   "outputs": [
    {
     "name": "stdout",
     "output_type": "stream",
     "text": [
      "422899\n"
     ]
    }
   ],
   "source": [
    "where = f\"tract = {3838} AND patch = {36} AND \" + \\\n",
    "              f\"skymap = 'DC2' AND band='g'\"\n",
    "refs = list(set(butler.registry.queryDatasets(\"raw\", where=where)))\n",
    "print(len(refs))\n",
    "# raw_test = butler.get('raw', dataId=refs[0].dataId)"
   ]
  },
  {
   "cell_type": "code",
   "execution_count": 7,
   "id": "94367cb8-5e2b-49b4-b990-b88ddfc9494c",
   "metadata": {},
   "outputs": [
    {
     "data": {
      "text/plain": [
       "{instrument: 'LSSTCam-imSim', detector: 184, exposure: 479255, band: 'g', day_obs: 20231130, group: '479255', physical_filter: 'g_sim_1.4'}"
      ]
     },
     "execution_count": 7,
     "metadata": {},
     "output_type": "execute_result"
    }
   ],
   "source": [
    "refs[0].dataId"
   ]
  },
  {
   "cell_type": "code",
   "execution_count": 8,
   "id": "f4b95cd4-3973-47eb-b996-a6a153462dab",
   "metadata": {},
   "outputs": [],
   "source": [
    "days_obs = np.unique([i.dataId[\"day_obs\"] for i in refs])"
   ]
  },
  {
   "cell_type": "code",
   "execution_count": 9,
   "id": "a5a6b8e4-a434-4c7b-b121-da7ae2f81be1",
   "metadata": {
    "scrolled": true
   },
   "outputs": [
    {
     "data": {
      "text/plain": [
       "array([20211231, 20220201, 20220222, 20220730, 20220801, 20220804,\n",
       "       20220825, 20220827, 20220831, 20220902, 20220916, 20220917,\n",
       "       20220918, 20220919, 20220920, 20221001, 20221004, 20221014,\n",
       "       20221017, 20221020, 20221022, 20221023, 20221026, 20221031,\n",
       "       20221103, 20221112, 20221115, 20221118, 20221129, 20221202,\n",
       "       20221210, 20221213, 20221214, 20221216, 20221217, 20221218,\n",
       "       20221219, 20221228, 20221231, 20230113, 20230718, 20230719,\n",
       "       20230820, 20230821, 20230904, 20230907, 20230908, 20230921,\n",
       "       20230924, 20231005, 20231008, 20231009, 20231020, 20231023,\n",
       "       20231111, 20231118, 20231121, 20231129, 20231130, 20231202,\n",
       "       20231203, 20231205, 20231207, 20231208, 20231218, 20231221,\n",
       "       20240709, 20240801, 20240807, 20240812, 20240901, 20240905,\n",
       "       20240906, 20240913, 20240924, 20240927, 20241004, 20241009,\n",
       "       20241012, 20241021, 20241022, 20241023, 20241024, 20241026,\n",
       "       20241027, 20241104, 20241106, 20241109, 20241112, 20241117,\n",
       "       20241120, 20241125, 20241129, 20241206, 20241209, 20241217,\n",
       "       20241220, 20241223, 20250103, 20250120, 20250202, 20250216,\n",
       "       20250223, 20250227, 20250301, 20250401, 20250723, 20250724,\n",
       "       20250816, 20250831, 20250914, 20250915, 20250922, 20250928,\n",
       "       20251001, 20251010, 20251012, 20251013, 20251016, 20251025,\n",
       "       20251026, 20251029, 20251101, 20251112, 20251113, 20251126,\n",
       "       20251129, 20251206, 20251207, 20251209, 20251210, 20251212,\n",
       "       20251226, 20251229, 20260103, 20260106, 20260109, 20260113,\n",
       "       20260115, 20260116, 20260208, 20260212, 20260309, 20260311,\n",
       "       20260312, 20260313, 20260315, 20260717, 20260809, 20260816,\n",
       "       20260914, 20260915, 20260918, 20260921, 20260924, 20260930,\n",
       "       20261003, 20261013, 20261015, 20261016, 20261019, 20261022,\n",
       "       20261029, 20261030, 20261103, 20261104, 20261106, 20261110,\n",
       "       20261111, 20261113, 20261114, 20261117, 20261120, 20261125,\n",
       "       20261128, 20261201, 20261203, 20261209, 20261210, 20261214,\n",
       "       20261217, 20261231])"
      ]
     },
     "execution_count": 9,
     "metadata": {},
     "output_type": "execute_result"
    }
   ],
   "source": [
    "days_obs"
   ]
  },
  {
   "cell_type": "code",
   "execution_count": 10,
   "id": "cbca4eba-5e45-4b27-b62d-c6049c0a70ef",
   "metadata": {},
   "outputs": [
    {
     "name": "stdout",
     "output_type": "stream",
     "text": [
      "92\n"
     ]
    }
   ],
   "source": [
    "where = f\"tract = {3838} AND patch = {36} AND \" + \\\n",
    "              f\"skymap = 'DC2' AND band='g' AND day_obs in ({days_obs[1]})\"\n",
    "refs = list(set(butler.registry.queryDatasets(\"raw\", where=where)))\n",
    "print(len(refs))"
   ]
  },
  {
   "cell_type": "code",
   "execution_count": null,
   "id": "0f7eb472-3262-4cde-8f46-8c0b7ce377e0",
   "metadata": {},
   "outputs": [],
   "source": []
  },
  {
   "cell_type": "code",
   "execution_count": 11,
   "id": "dad7b028-8695-4bb9-b5d6-35183b7164fd",
   "metadata": {},
   "outputs": [],
   "source": [
    "repo = '/global/cfs/cdirs/lsst/production/gen3/DC2/Run2.2i/repo'\n",
    "collections = ['2.2i/calib', 'skymaps', 'LSSTCam-imSim/defaults']\n",
    "butler = Butler(repo)"
   ]
  },
  {
   "cell_type": "code",
   "execution_count": 12,
   "id": "7b33b4ab-fa80-4546-a57f-4b1a3838d43d",
   "metadata": {},
   "outputs": [
    {
     "name": "stdout",
     "output_type": "stream",
     "text": [
      "test_4222025_2\n",
      "taceroc\n",
      "Name of new butler collection for my output:  u/taceroc_pm/test_4222025_2\n"
     ]
    }
   ],
   "source": [
    "my_collection_identifier = 'test_4222025_2'\n",
    "print(my_collection_identifier)\n",
    "\n",
    "user = os.getenv(\"USER\")\n",
    "print(user)\n",
    "\n",
    "my_outputCollection = f\"u/{user}_pm/{my_collection_identifier}\" \n",
    "print('Name of new butler collection for my output: ', my_outputCollection)"
   ]
  },
  {
   "cell_type": "code",
   "execution_count": 13,
   "id": "12ed0690-9066-4d9a-b861-df2792d5da8b",
   "metadata": {},
   "outputs": [
    {
     "name": "stdout",
     "output_type": "stream",
     "text": [
      "/pscratch/sd/t/taceroc\n"
     ]
    }
   ],
   "source": [
    "! echo $PSCRATCH"
   ]
  },
  {
   "cell_type": "code",
   "execution_count": 14,
   "id": "e903817f-3505-441a-952e-ba14ff4dd827",
   "metadata": {},
   "outputs": [],
   "source": [
    "simpleButler = SimplePipelineExecutor.prep_butler(repo, \n",
    "                                                  inputs=collections, \n",
    "                                                  output=my_outputCollection)"
   ]
  },
  {
   "cell_type": "code",
   "execution_count": 15,
   "id": "04dc2412-165b-421a-8897-8eff1f0af484",
   "metadata": {},
   "outputs": [
    {
     "data": {
      "text/plain": [
       "('u/taceroc_pm/test_4222025_2/20250422T162657Z',\n",
       " '2.2i/calib',\n",
       " 'skymaps',\n",
       " 'LSSTCam-imSim/defaults')"
      ]
     },
     "execution_count": 15,
     "metadata": {},
     "output_type": "execute_result"
    }
   ],
   "source": [
    "simpleButler.registry.getCollectionChain(my_outputCollection)"
   ]
  },
  {
   "cell_type": "code",
   "execution_count": 16,
   "id": "b0850e03-f97b-4245-9008-2e324dc59d4d",
   "metadata": {},
   "outputs": [
    {
     "name": "stdout",
     "output_type": "stream",
     "text": [
      "$DRP_PIPE_DIR/pipelines/LSSTCam-imSim/DRP-test-med-1.yaml#step1,step2\n"
     ]
    }
   ],
   "source": [
    "yaml_file = '$DRP_PIPE_DIR/pipelines/LSSTCam-imSim/DRP-test-med-1.yaml'\n",
    "# steps = 'step1,step2'\n",
    "steps = 'step1,step2'\n",
    "# steps = 'step1,step2,step3'\n",
    "my_uri = yaml_file + '#' + steps\n",
    "print(my_uri)"
   ]
  },
  {
   "cell_type": "code",
   "execution_count": 17,
   "id": "18f23599-0fdf-4ea0-8f64-58e5ad34ee87",
   "metadata": {},
   "outputs": [],
   "source": [
    "assembleCoaddPipeline = Pipeline.from_uri(my_uri)"
   ]
  },
  {
   "cell_type": "code",
   "execution_count": 18,
   "id": "1e789c0b-bb96-463f-a4b3-05b174f283bb",
   "metadata": {},
   "outputs": [],
   "source": [
    "my_tract = 3838\n",
    "my_patch = 36"
   ]
  },
  {
   "cell_type": "code",
   "execution_count": 19,
   "id": "5806aeb2-88cb-49c6-b74d-8b059b01453f",
   "metadata": {},
   "outputs": [],
   "source": [
    "# refs = list(set(butler.registry.queryDatasets(\"raw\", collections=collections)))"
   ]
  },
  {
   "cell_type": "code",
   "execution_count": 20,
   "id": "0820d306-e221-45bc-8398-584e53fb5911",
   "metadata": {},
   "outputs": [],
   "source": [
    "# queryString = f\"tract = {my_tract} AND patch = {my_patch} AND \" + \\\n",
    "#               f\"skymap = 'DC2' AND band='g' AND day_obs in ({days_obs[1]})\"\n",
    "# print(queryString)"
   ]
  },
  {
   "cell_type": "code",
   "execution_count": 21,
   "id": "64ade24b-33b9-4fba-8c4a-cd2c5ce9d546",
   "metadata": {},
   "outputs": [],
   "source": [
    "# refs = list(set(butler.registry.queryDatasets(\"dark\", where=queryString)))"
   ]
  },
  {
   "cell_type": "code",
   "execution_count": 22,
   "id": "1e723910-0f11-4d88-88e6-218f9cc9bb3e",
   "metadata": {},
   "outputs": [],
   "source": [
    "# len(refs)"
   ]
  },
  {
   "cell_type": "code",
   "execution_count": 23,
   "id": "90c8b53a-88bd-4b1c-82b0-5701f43c2e81",
   "metadata": {},
   "outputs": [],
   "source": [
    "# pipeline2dot(assembleCoaddPipeline, \"/global/homes/t/taceroc/custom_coadd_qgraph.dot\")\n",
    "\n",
    "# ! dot -Tpng \"/global/homes/t/taceroc/custom_coadd_qgraph.dot\" > \"/global/homes/t/taceroc/custom_coadd_qgraph.png\""
   ]
  },
  {
   "cell_type": "code",
   "execution_count": 24,
   "id": "5ec90425-9712-4e3a-88ae-001dcb2212b0",
   "metadata": {},
   "outputs": [],
   "source": [
    "queryString = f\"tract = {my_tract} AND patch = {my_patch} AND \" + \\\n",
    "              f\"skymap = 'DC2' AND band='g'\"\n",
    "spe = SimplePipelineExecutor.from_pipeline(assembleCoaddPipeline, \n",
    "                                           where=queryString, \n",
    "                                           butler=simpleButler)"
   ]
  },
  {
   "cell_type": "code",
   "execution_count": 25,
   "id": "4f4da9ae-963f-4265-b406-7a165017e39d",
   "metadata": {
    "scrolled": true
   },
   "outputs": [],
   "source": [
    "# sorted(list(set(butler.registry.queryDatasets('raw', collections=['2.2i/calib', 'skymaps', 'LSSTCam-imSim/defaults']))))"
   ]
  },
  {
   "cell_type": "code",
   "execution_count": 26,
   "id": "fbb7b908-8994-4a5d-98ec-9763ece21d16",
   "metadata": {},
   "outputs": [],
   "source": [
    "# !butler remove-runs /global/cfs/cdirs/lsst/production/gen3/DC2/Run2.2i/repo u/taceroc_pm/test_4222025_1"
   ]
  },
  {
   "cell_type": "code",
   "execution_count": 27,
   "id": "0427a324-9d9a-4a93-88cd-eaeca8e993b4",
   "metadata": {
    "scrolled": true
   },
   "outputs": [
    {
     "name": "stderr",
     "output_type": "stream",
     "text": [
      "/cvmfs/sw.lsst.eu/linux-x86_64/lsst_distrib/v27.0.0/conda/envs/lsst-scipipe-8.0.0-exact-ext/share/eups/Linux64/meas_extensions_shapeHSM/g46d310ee33+21ad69e7e1/python/lsst/meas/extensions/shapeHSM/_hsm_higher_moments.py:211: RuntimeWarning: invalid value encountered in scalar divide\n",
      "  results[(p, q)] = np.sum(std_x_powers[p] * std_y_powers[q] * image_weight) / normalization\n",
      "/cvmfs/sw.lsst.eu/linux-x86_64/lsst_distrib/v27.0.0/conda/envs/lsst-scipipe-8.0.0-exact-ext/share/eups/Linux64/meas_extensions_shapeHSM/g46d310ee33+21ad69e7e1/python/lsst/meas/extensions/shapeHSM/_hsm_higher_moments.py:201: RuntimeWarning: invalid value encountered in scalar divide\n",
      "  scale = image_array[~badpix].sum() / weight[~badpix].sum()\n"
     ]
    }
   ],
   "source": [
    "quanta = spe.run()"
   ]
  },
  {
   "cell_type": "code",
   "execution_count": null,
   "id": "5342c2e1-46ba-4050-bd87-1bd6e6746fc5",
   "metadata": {},
   "outputs": [
    {
     "name": "stdout",
     "output_type": "stream",
     "text": [
      "The following RUN collections will be removed:\n",
      "u/taceroc_pm/test_4222025_1/20250422T125940Z\n",
      "u/taceroc_pm/test_4222025_1/20250422T132604Z\n",
      "u/taceroc_pm/test_4222025_1/20250422T134014Z\n",
      "u/taceroc_pm/test_4222025_1/20250422T142052Z\n",
      "u/taceroc_pm/test_4222025_1/20250422T160810Z: will be unlinked from \"u/taceroc_pm/test_4222025_1\"\n",
      "\n",
      "The following datasets will be removed:\n",
      "assembleCoadd_config(1), calibrate_config(1), characterizeImage_config(1), consolidateSourceTable_config(1), consolidateVisitSummary_config(1), deblend_config(1), deepCoadd_deblendedFlux_schema(1), deepCoadd_det_schema(1), deepCoadd_meas_schema(1), deepCoadd_mergeDet_schema(1), deepCoadd_peak_schema(1), detection_config(1), finalVisitSummary_schema(1), finalizeCharacterization_config(1), icSrc_schema(1), isolatedStarAssociation_config(1), isr_config(1), isr_log(17), isr_metadata(16), makeCcdVisitTable_config(1), makeVisitTable_config(1), makeWarp_config(1), measure_config(1), mergeDetections_config(1), packages(1), postISRCCD(16), selectDeepCoaddVisits_config(1), src_schema(1), transformSourceTable_config(1), updateVisitSummary_config(1), visitSummary_schema(1), writeSourceTable_config(1)\n",
      "Continue? [y/N]: "
     ]
    }
   ],
   "source": [
    "# !butler remove-runs /global/cfs/cdirs/lsst/production/gen3/DC2/Run2.2i/repo u/taceroc_pm/test_4222025_1/*"
   ]
  },
  {
   "cell_type": "code",
   "execution_count": null,
   "id": "be61cef1-abd2-4b8f-9dfe-8f0149fe0c87",
   "metadata": {},
   "outputs": [],
   "source": []
  },
  {
   "cell_type": "code",
   "execution_count": null,
   "id": "f3e19465-f32f-4de4-a153-535c90ce2a6d",
   "metadata": {},
   "outputs": [],
   "source": []
  },
  {
   "cell_type": "code",
   "execution_count": null,
   "id": "1318dfe1-21bf-4bba-b7d4-9975b990e23c",
   "metadata": {},
   "outputs": [],
   "source": []
  },
  {
   "cell_type": "code",
   "execution_count": null,
   "id": "99577f79-88c3-4b9c-a07a-de41afbc971c",
   "metadata": {},
   "outputs": [],
   "source": []
  }
 ],
 "metadata": {
  "kernelspec": {
   "display_name": "lsst-sci-cvmfs-v24",
   "language": "python",
   "name": "lsst-sci-cvmfs-v24"
  },
  "language_info": {
   "codemirror_mode": {
    "name": "ipython",
    "version": 3
   },
   "file_extension": ".py",
   "mimetype": "text/x-python",
   "name": "python",
   "nbconvert_exporter": "python",
   "pygments_lexer": "ipython3",
   "version": "3.11.9"
  }
 },
 "nbformat": 4,
 "nbformat_minor": 5
}
