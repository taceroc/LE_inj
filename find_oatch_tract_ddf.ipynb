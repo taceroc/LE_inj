{
 "cells": [
  {
   "cell_type": "code",
   "execution_count": 1,
   "id": "e28bdc2c-7985-4790-b6f6-0faa63a96eca",
   "metadata": {},
   "outputs": [],
   "source": [
    "from lsst.geom import SpherePoint, degrees\n",
    "from lsst.daf.butler import Butler"
   ]
  },
  {
   "cell_type": "code",
   "execution_count": 2,
   "id": "79706969-aca4-4cca-b901-52de75557449",
   "metadata": {},
   "outputs": [],
   "source": [
    "# DDF from DC2 paper\n",
    "ras = [53.125, 53.764, 52.486, 53.771, 52.479]\n",
    "decs = [-28.100, -27.533, -27.533, -28.667, -28.667]"
   ]
  },
  {
   "cell_type": "code",
   "execution_count": 3,
   "id": "fc700b23-0228-40aa-937d-e95304ae35e1",
   "metadata": {},
   "outputs": [],
   "source": [
    "injection_sphere_points = [\n",
    "    SpherePoint(ra, dec, units=degrees)\n",
    "    for ra, dec in zip(ras, decs)\n",
    "]"
   ]
  },
  {
   "cell_type": "code",
   "execution_count": 4,
   "id": "6deb1080-1213-4b0b-a19f-7c4802a5edf7",
   "metadata": {},
   "outputs": [],
   "source": [
    "repo = '/global/cfs/cdirs/lsst/production/gen3/DC2/Run2.2i/repo'\n",
    "collections = [\"LSSTCam-imSim/defaults\"]\n",
    "butler = Butler(repo, collections=collections)"
   ]
  },
  {
   "cell_type": "code",
   "execution_count": 5,
   "id": "c29a2c92-5cc0-40d0-8c1c-b1131432c19a",
   "metadata": {},
   "outputs": [],
   "source": [
    "# Get the sky map.\n",
    "collections = [\"LSSTCam-imSim/defaults\"]\n",
    "skymap = butler.get(\n",
    "    \"skyMap\",\n",
    "    collections=collections,\n",
    "    skymap=\"DC2\",\n",
    ")\n",
    "# Find all tract and patch overlaps.\n",
    "injection_tract_patch_info = skymap.findTractPatchList(injection_sphere_points)\n",
    "\n",
    "# Format the results into injection_tract_patch_dict.\n",
    "injection_tract_patch_dict = {}\n",
    "for tract_info, patch_info in injection_tract_patch_info:\n",
    "    tract_id = tract_info.tract_id\n",
    "    patch_ids = [patch.sequential_index for patch in patch_info]\n",
    "    injection_tract_patch_dict[tract_id] = sorted(patch_ids)"
   ]
  },
  {
   "cell_type": "code",
   "execution_count": 6,
   "id": "ab08f0ea-ef21-4a0d-8f7e-ba3a72292172",
   "metadata": {},
   "outputs": [
    {
     "data": {
      "text/plain": [
       "{5063: [0,\n",
       "  1,\n",
       "  2,\n",
       "  3,\n",
       "  4,\n",
       "  5,\n",
       "  7,\n",
       "  8,\n",
       "  9,\n",
       "  10,\n",
       "  11,\n",
       "  12,\n",
       "  14,\n",
       "  15,\n",
       "  16,\n",
       "  17,\n",
       "  18,\n",
       "  19,\n",
       "  21,\n",
       "  22,\n",
       "  23,\n",
       "  24,\n",
       "  25,\n",
       "  26],\n",
       " 4849: [31, 32, 33, 34, 38, 39, 40, 41, 45, 46, 47, 48],\n",
       " 4848: [28, 29, 30, 35, 36, 37, 42, 43, 44]}"
      ]
     },
     "execution_count": 6,
     "metadata": {},
     "output_type": "execute_result"
    }
   ],
   "source": [
    "injection_tract_patch_dict"
   ]
  },
  {
   "cell_type": "code",
   "execution_count": null,
   "id": "f3449d7d-2110-4083-a1d3-891de3634619",
   "metadata": {},
   "outputs": [],
   "source": []
  }
 ],
 "metadata": {
  "kernelspec": {
   "display_name": "lsst-sci-cvmfs-v24",
   "language": "python",
   "name": "lsst-sci-cvmfs-v24"
  },
  "language_info": {
   "codemirror_mode": {
    "name": "ipython",
    "version": 3
   },
   "file_extension": ".py",
   "mimetype": "text/x-python",
   "name": "python",
   "nbconvert_exporter": "python",
   "pygments_lexer": "ipython3",
   "version": "3.11.9"
  }
 },
 "nbformat": 4,
 "nbformat_minor": 5
}
