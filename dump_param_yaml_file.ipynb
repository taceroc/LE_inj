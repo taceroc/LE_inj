{
 "cells": [
  {
   "cell_type": "code",
   "execution_count": 10,
   "id": "9a4c0eb4-11ad-4935-b3b9-c72cf9673035",
   "metadata": {},
   "outputs": [],
   "source": [
    "import yaml\n",
    "import numpy as np"
   ]
  },
  {
   "cell_type": "code",
   "execution_count": 89,
   "id": "f8ff56e9-f715-4f11-a84e-4c6367ee8d68",
   "metadata": {},
   "outputs": [],
   "source": [
    "ids = np.arange(2)\n",
    "params_list = {ids[0].item():\n",
    "        {\"dt0\": 100,\n",
    "        \"ct\": 165,\n",
    "        \"d\": 52000,\n",
    "        \"Flmax\": 1e16,\n",
    "        \"dz0\": 0.06,\n",
    "        \"plane_coefficients\": [0.9, -1.3, 1, 10],\n",
    "        \"wave\": 6.732E-01,\n",
    "        \"angles\": [30, 155]\n",
    "        },\n",
    "        ids[1].item():\n",
    "        {\"dt0\": 100,\n",
    "        \"ct\": 230,\n",
    "        \"d\": 52000,\n",
    "        \"Flmax\": 1e16,\n",
    "        \"dz0\": 0.06,\n",
    "        \"plane_coefficients\": [0.9, -1.3, 1, 10],\n",
    "        \"wave\": 6.732E-01,\n",
    "        \"angles\": [30, 155]\n",
    "        }}"
   ]
  },
  {
   "cell_type": "code",
   "execution_count": 85,
   "id": "485223b9-9ece-4ab5-8ac1-e68c79467d05",
   "metadata": {},
   "outputs": [],
   "source": [
    "test_yaml = yaml.dump(params_list)"
   ]
  },
  {
   "cell_type": "code",
   "execution_count": 86,
   "id": "8a828e1a-771b-4f53-8eb6-36721024daf6",
   "metadata": {
    "scrolled": true
   },
   "outputs": [
    {
     "name": "stdout",
     "output_type": "stream",
     "text": [
      "0:\n",
      "  Flmax: 1.0e+16\n",
      "  angles:\n",
      "  - 30\n",
      "  - 155\n",
      "  ct: 165\n",
      "  d: 52000\n",
      "  dt0: 100\n",
      "  dz0: 0.06\n",
      "  plane_coefficients:\n",
      "  - 0.9\n",
      "  - -1.3\n",
      "  - 1\n",
      "  - 10\n",
      "  wave: 0.6732\n",
      "1:\n",
      "  Flmax: 1.0e+16\n",
      "  angles:\n",
      "  - 30\n",
      "  - 155\n",
      "  ct: 230\n",
      "  d: 52000\n",
      "  dt0: 100\n",
      "  dz0: 0.06\n",
      "  plane_coefficients:\n",
      "  - 0.9\n",
      "  - -1.3\n",
      "  - 1\n",
      "  - 10\n",
      "  wave: 0.6732\n",
      "\n"
     ]
    }
   ],
   "source": [
    "print(test_yaml)"
   ]
  },
  {
   "cell_type": "code",
   "execution_count": 78,
   "id": "de2eb94b-7c0c-4107-a16a-24d58281ba9f",
   "metadata": {},
   "outputs": [],
   "source": [
    "# with open('result.yml', 'w') as yaml_file:\n",
    "#     yaml.dump(params_list, yaml_file, default_flow_style=False)"
   ]
  },
  {
   "cell_type": "code",
   "execution_count": 79,
   "id": "59e46940-9497-4adf-a4b0-b0330ecfcd3b",
   "metadata": {},
   "outputs": [],
   "source": [
    "with open(\"result.yml\", 'r') as f:\n",
    "    valuesYaml = yaml.safe_load(f)"
   ]
  },
  {
   "cell_type": "code",
   "execution_count": 90,
   "id": "8c98ccd5-b9b8-4f3f-b792-9a1f285ab662",
   "metadata": {},
   "outputs": [
    {
     "data": {
      "text/plain": [
       "2"
      ]
     },
     "execution_count": 90,
     "metadata": {},
     "output_type": "execute_result"
    }
   ],
   "source": [
    "len(valuesYaml)"
   ]
  },
  {
   "cell_type": "code",
   "execution_count": 87,
   "id": "1627216c-c88b-4ccd-8cfd-ceead05b1324",
   "metadata": {},
   "outputs": [
    {
     "name": "stdout",
     "output_type": "stream",
     "text": [
      "0\n",
      "1\n"
     ]
    }
   ],
   "source": [
    "for i in valuesYaml:\n",
    "    print(i)"
   ]
  },
  {
   "cell_type": "code",
   "execution_count": 80,
   "id": "bd9a0c92-9246-4224-b3b6-c55f05cf53b6",
   "metadata": {},
   "outputs": [
    {
     "data": {
      "text/plain": [
       "{'Flmax': 1e+16,\n",
       " 'angles': [30, 170],\n",
       " 'ct': 230,\n",
       " 'd': 52000,\n",
       " 'dt0': 100,\n",
       " 'dz0': 0.06,\n",
       " 'plane_coefficients': [0.9, -1.3, 1, 10],\n",
       " 'wave': 0.6732}"
      ]
     },
     "execution_count": 80,
     "metadata": {},
     "output_type": "execute_result"
    }
   ],
   "source": [
    "valuesYaml[1]"
   ]
  },
  {
   "cell_type": "code",
   "execution_count": 81,
   "id": "c97d1f9e-5caf-4a3f-a686-c1685cfa5cad",
   "metadata": {},
   "outputs": [
    {
     "data": {
      "text/plain": [
       "[30, 155]"
      ]
     },
     "execution_count": 81,
     "metadata": {},
     "output_type": "execute_result"
    }
   ],
   "source": [
    "valuesYaml[0]['angles']"
   ]
  },
  {
   "cell_type": "code",
   "execution_count": 82,
   "id": "b664661d-cc87-43ca-987e-4e06e662169c",
   "metadata": {},
   "outputs": [
    {
     "data": {
      "text/plain": [
       "[30, 170]"
      ]
     },
     "execution_count": 82,
     "metadata": {},
     "output_type": "execute_result"
    }
   ],
   "source": [
    "valuesYaml[1]['angles']"
   ]
  },
  {
   "cell_type": "code",
   "execution_count": 95,
   "id": "fe532c62-3dae-460a-9d3b-763d528afd27",
   "metadata": {},
   "outputs": [],
   "source": [
    "list_id = np.arange(len(valuesYaml)+1)"
   ]
  },
  {
   "cell_type": "code",
   "execution_count": 96,
   "id": "8d2fdc2f-c081-44ac-93e4-ef185e41e196",
   "metadata": {},
   "outputs": [
    {
     "data": {
      "text/plain": [
       "array([0, 1, 2])"
      ]
     },
     "execution_count": 96,
     "metadata": {},
     "output_type": "execute_result"
    }
   ],
   "source": [
    "list_id"
   ]
  },
  {
   "cell_type": "code",
   "execution_count": 91,
   "id": "cc7733ee-ab82-42dd-808a-ebff754323d0",
   "metadata": {},
   "outputs": [],
   "source": [
    "with open(\"name_surface.yml\", 'r') as f:\n",
    "    name_surface = yaml.safe_load(f)"
   ]
  },
  {
   "cell_type": "code",
   "execution_count": 94,
   "id": "8c3bf8f4-0c11-4aa7-a64a-726429ad59f9",
   "metadata": {},
   "outputs": [
    {
     "data": {
      "text/plain": [
       "'/pscratch/sd/t/taceroc/LE_inj/lightecho_modeling_oop/OOP/results/LC_infplane_test_multi/arrays/surface_valuesInfPlane_dt0_loop_ct230_loc[0.9, -1.3, 1, -32.6156]_dz0.06_w673_angle[30, 170].npy'"
      ]
     },
     "execution_count": 94,
     "metadata": {},
     "output_type": "execute_result"
    }
   ],
   "source": [
    "name_surface[0]['path_to_surface_values']"
   ]
  },
  {
   "cell_type": "code",
   "execution_count": null,
   "id": "bf346c67-fef3-4d8f-93d6-ce1e970c997a",
   "metadata": {},
   "outputs": [],
   "source": []
  }
 ],
 "metadata": {
  "kernelspec": {
   "display_name": "NERSC Python",
   "language": "python",
   "name": "python3"
  },
  "language_info": {
   "codemirror_mode": {
    "name": "ipython",
    "version": 3
   },
   "file_extension": ".py",
   "mimetype": "text/x-python",
   "name": "python",
   "nbconvert_exporter": "python",
   "pygments_lexer": "ipython3",
   "version": "3.11.7"
  }
 },
 "nbformat": 4,
 "nbformat_minor": 5
}
